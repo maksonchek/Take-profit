{
 "cells": [
  {
   "cell_type": "code",
   "execution_count": 11,
   "metadata": {},
   "outputs": [],
   "source": [
    "from moexalgo import Market, Ticker\n",
    "from datetime import datetime, timedelta\n",
    "import pandas as pd\n",
    "import time"
   ]
  },
  {
   "cell_type": "code",
   "execution_count": 12,
   "metadata": {},
   "outputs": [],
   "source": [
    "stocks = Market('stocks')"
   ]
  },
  {
   "cell_type": "code",
   "execution_count": 13,
   "metadata": {},
   "outputs": [
    {
     "name": "stdout",
     "output_type": "stream",
     "text": [
      "Index(['MTLR', 'SGZH', 'VTBR', 'RNFT', 'SBER'], dtype='object', name='ticker')\n"
     ]
    }
   ],
   "source": [
    "# Задаем параметры для загрузки данных\n",
    "end_date = datetime.now()\n",
    "start_date = end_date - timedelta(days=10)  # Пример: данные за последние 6 месяцев\n",
    "\n",
    "# Создаем объект рынка\n",
    "stocks_market = Market('stocks')\n",
    "\n",
    "# Создаем пустой DataFrame для хранения данных\n",
    "all_tradestats = pd.DataFrame()\n",
    "\n",
    "# Итерируемся по датам и загружаем данные для каждой даты\n",
    "current_date = start_date\n",
    "while current_date <= end_date:\n",
    "    # Получаем данные по всем акциям за текущую дату\n",
    "    tradestats_date = stocks_market.tradestats(date=current_date)\n",
    "    \n",
    "    # Конкатенируем полученные данные с общим DataFrame\n",
    "    all_tradestats = pd.concat([all_tradestats, tradestats_date])\n",
    "    \n",
    "    # Переходим к следующей дате\n",
    "    current_date += timedelta(days=1)\n",
    "\n",
    "# Группируем данные по тикеру и считаем средний объем торгов за период\n",
    "average_volume = all_tradestats.groupby('ticker')['vol'].mean()\n",
    "\n",
    "# Сортируем по убыванию среднего объема и берем топ-5\n",
    "top_5_liquid_tickers = average_volume.sort_values(ascending=False).head(5).index\n",
    "\n",
    "# Выводим топ-5 тикеров\n",
    "print(top_5_liquid_tickers)"
   ]
  },
  {
   "cell_type": "code",
   "execution_count": 14,
   "metadata": {},
   "outputs": [],
   "source": [
    "# Задаем параметры для загрузки данных\n",
    "end_date = datetime.now()\n",
    "start_date = end_date - timedelta(days=7)  # Данные за последнюю неделю\n",
    "\n",
    "# Создаем пустой DataFrame для хранения данных\n",
    "all_tradestats = pd.DataFrame()\n",
    "\n",
    "# Итерируемся по каждому тикеру\n",
    "for ticker in top_5_liquid_tickers:\n",
    "    # Создаем объект тикера\n",
    "    current_ticker = Ticker(ticker)\n",
    "    \n",
    "    # Создаем пустой DataFrame для хранения данных по текущему тикеру\n",
    "    ticker_tradestats = pd.DataFrame()\n",
    "    \n",
    "    # Итерируемся по датам и загружаем данные для каждой даты\n",
    "    current_date = start_date\n",
    "    while current_date <= end_date:\n",
    "        # Получаем данные по текущему тикеру за текущую дату\n",
    "        tradestats_date = current_ticker.tradestats(date=current_date)\n",
    "        \n",
    "        # Конкатенируем полученные данные с общим DataFrame по текущему тикеру\n",
    "        ticker_tradestats = pd.concat([ticker_tradestats, tradestats_date])\n",
    "        \n",
    "        # Переходим к следующей дате\n",
    "        current_date += timedelta(days=1)\n",
    "    \n",
    "    # Добавляем данные по текущему тикеру в общий DataFrame\n",
    "    all_tradestats = pd.concat([all_tradestats, ticker_tradestats])\n",
    "\n",
    "    # Задержка перед следующим запросом\n",
    "    time.sleep(0.5)\n",
    "\n",
    "    # Сохраняем данные по текущему тикеру в CSV файл\n",
    "    ticker_tradestats.to_csv(f'tradestats_{ticker}.csv', index=None)"
   ]
  }
 ],
 "metadata": {
  "kernelspec": {
   "display_name": "Python 3",
   "language": "python",
   "name": "python3"
  },
  "language_info": {
   "codemirror_mode": {
    "name": "ipython",
    "version": 3
   },
   "file_extension": ".py",
   "mimetype": "text/x-python",
   "name": "python",
   "nbconvert_exporter": "python",
   "pygments_lexer": "ipython3",
   "version": "3.10.2"
  }
 },
 "nbformat": 4,
 "nbformat_minor": 2
}
